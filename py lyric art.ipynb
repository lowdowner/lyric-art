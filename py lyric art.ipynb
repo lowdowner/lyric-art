{
 "cells": [
  {
   "cell_type": "code",
   "execution_count": 5,
   "metadata": {},
   "outputs": [
    {
     "name": "stdout",
     "output_type": "stream",
     "text": [
      "Collecting pycairo\n",
      "  Using cached pycairo-1.19.1.tar.gz (205 kB)\n",
      "Building wheels for collected packages: pycairo\n",
      "  Building wheel for pycairo (setup.py) ... \u001b[?25ldone\n",
      "\u001b[?25h  Created wheel for pycairo: filename=pycairo-1.19.1-cp37-cp37m-macosx_10_7_x86_64.whl size=93498 sha256=9b4ca44d551df9018e79ffc357f3a4727e7f447bb3ab11119655ba7e83a524c2\n",
      "  Stored in directory: /Users/leondowner/Library/Caches/pip/wheels/82/aa/e4/b6c8ba84a111a5485e7a426b030f03b77765cdc2567927ea96\n",
      "Successfully built pycairo\n",
      "Installing collected packages: pycairo\n",
      "Successfully installed pycairo-1.19.1\n",
      "\u001b[33mWARNING: You are using pip version 20.1; however, version 20.1.1 is available.\n",
      "You should consider upgrading via the '//anaconda3/bin/python -m pip install --upgrade pip' command.\u001b[0m\n",
      "Note: you may need to restart the kernel to use updated packages.\n"
     ]
    }
   ],
   "source": [
    "pip install pycairo"
   ]
  },
  {
   "cell_type": "code",
   "execution_count": 1,
   "metadata": {},
   "outputs": [],
   "source": [
    "import pandas as pd \n",
    "import string\n",
    "import numpy as np\n",
    "\n",
    "import cairo\n",
    "\n",
    "    \n",
    "import sys\n",
    "import argparse\n",
    "import copy\n",
    "import math\n",
    "import random\n",
    "from textblob  import  TextBlob\n"
   ]
  },
  {
   "cell_type": "code",
   "execution_count": 103,
   "metadata": {},
   "outputs": [],
   "source": [
    "data = pd.read_csv('watchtower_lyrics.csv')"
   ]
  },
  {
   "cell_type": "code",
   "execution_count": 104,
   "metadata": {},
   "outputs": [
    {
     "data": {
      "text/html": [
       "<div>\n",
       "<style scoped>\n",
       "    .dataframe tbody tr th:only-of-type {\n",
       "        vertical-align: middle;\n",
       "    }\n",
       "\n",
       "    .dataframe tbody tr th {\n",
       "        vertical-align: top;\n",
       "    }\n",
       "\n",
       "    .dataframe thead th {\n",
       "        text-align: right;\n",
       "    }\n",
       "</style>\n",
       "<table border=\"1\" class=\"dataframe\">\n",
       "  <thead>\n",
       "    <tr style=\"text-align: right;\">\n",
       "      <th></th>\n",
       "      <th>lyric</th>\n",
       "    </tr>\n",
       "  </thead>\n",
       "  <tbody>\n",
       "    <tr>\n",
       "      <th>0</th>\n",
       "      <td>There must be some kind of way outta here</td>\n",
       "    </tr>\n",
       "    <tr>\n",
       "      <th>1</th>\n",
       "      <td>Said the joker to the thief</td>\n",
       "    </tr>\n",
       "    <tr>\n",
       "      <th>2</th>\n",
       "      <td>There's too much confusion</td>\n",
       "    </tr>\n",
       "    <tr>\n",
       "      <th>3</th>\n",
       "      <td>I can't get no relief</td>\n",
       "    </tr>\n",
       "    <tr>\n",
       "      <th>4</th>\n",
       "      <td>Business men, they drink my wine</td>\n",
       "    </tr>\n",
       "  </tbody>\n",
       "</table>\n",
       "</div>"
      ],
      "text/plain": [
       "                                       lyric\n",
       "0  There must be some kind of way outta here\n",
       "1                Said the joker to the thief\n",
       "2                 There's too much confusion\n",
       "3                      I can't get no relief\n",
       "4           Business men, they drink my wine"
      ]
     },
     "execution_count": 104,
     "metadata": {},
     "output_type": "execute_result"
    }
   ],
   "source": [
    "data.head()"
   ]
  },
  {
   "cell_type": "code",
   "execution_count": 105,
   "metadata": {},
   "outputs": [],
   "source": [
    "pol = lambda x: TextBlob(x).sentiment.polarity \n",
    "sub = lambda x: TextBlob(x).sentiment.subjectivity  "
   ]
  },
  {
   "cell_type": "code",
   "execution_count": 121,
   "metadata": {},
   "outputs": [],
   "source": [
    "data['polarity'] = data['lyric'].apply(pol)\n",
    "data['subjectivity'] = data['lyric'].apply(sub)\n",
    "data['totalwords'] = data['lyric'].str.split().str.len()\n",
    "data['pol_score'] = data['polarity'] * data['totalwords']\n",
    "\n",
    "\n",
    "data['polarity'] = data['polarity'].astype(float)\n",
    "\n",
    "def process(row):\n",
    "            polarity = row['polarity']\n",
    "            if polarity >0: return \"0, 153, 0\" #green\n",
    "            if polarity ==0: return \"0, 102, 255\" #blue\n",
    "            if polarity  <0: return \"255, 0, 0\" #red\n",
    "\n",
    "data['colour'] = data.apply(process,axis=1)\n",
    "\n",
    "#data['colour'] = pd.to_numeric(data['colour'])\n"
   ]
  },
  {
   "cell_type": "code",
   "execution_count": 122,
   "metadata": {},
   "outputs": [
    {
     "data": {
      "text/html": [
       "<div>\n",
       "<style scoped>\n",
       "    .dataframe tbody tr th:only-of-type {\n",
       "        vertical-align: middle;\n",
       "    }\n",
       "\n",
       "    .dataframe tbody tr th {\n",
       "        vertical-align: top;\n",
       "    }\n",
       "\n",
       "    .dataframe thead th {\n",
       "        text-align: right;\n",
       "    }\n",
       "</style>\n",
       "<table border=\"1\" class=\"dataframe\">\n",
       "  <thead>\n",
       "    <tr style=\"text-align: right;\">\n",
       "      <th></th>\n",
       "      <th>lyric</th>\n",
       "      <th>polarity</th>\n",
       "      <th>subjectivity</th>\n",
       "      <th>totalwords</th>\n",
       "      <th>pol_score</th>\n",
       "      <th>colour</th>\n",
       "    </tr>\n",
       "  </thead>\n",
       "  <tbody>\n",
       "    <tr>\n",
       "      <th>0</th>\n",
       "      <td>There must be some kind of way outta here</td>\n",
       "      <td>0.600</td>\n",
       "      <td>0.900</td>\n",
       "      <td>9</td>\n",
       "      <td>5.400</td>\n",
       "      <td>0, 153, 0</td>\n",
       "    </tr>\n",
       "    <tr>\n",
       "      <th>1</th>\n",
       "      <td>Said the joker to the thief</td>\n",
       "      <td>0.000</td>\n",
       "      <td>0.000</td>\n",
       "      <td>6</td>\n",
       "      <td>0.000</td>\n",
       "      <td>0, 102, 255</td>\n",
       "    </tr>\n",
       "    <tr>\n",
       "      <th>2</th>\n",
       "      <td>There's too much confusion</td>\n",
       "      <td>0.200</td>\n",
       "      <td>0.200</td>\n",
       "      <td>4</td>\n",
       "      <td>0.800</td>\n",
       "      <td>0, 153, 0</td>\n",
       "    </tr>\n",
       "    <tr>\n",
       "      <th>3</th>\n",
       "      <td>I can't get no relief</td>\n",
       "      <td>0.000</td>\n",
       "      <td>0.000</td>\n",
       "      <td>5</td>\n",
       "      <td>0.000</td>\n",
       "      <td>0, 102, 255</td>\n",
       "    </tr>\n",
       "    <tr>\n",
       "      <th>4</th>\n",
       "      <td>Business men, they drink my wine</td>\n",
       "      <td>0.000</td>\n",
       "      <td>0.000</td>\n",
       "      <td>6</td>\n",
       "      <td>0.000</td>\n",
       "      <td>0, 102, 255</td>\n",
       "    </tr>\n",
       "    <tr>\n",
       "      <th>5</th>\n",
       "      <td>Plowmen dig my earth</td>\n",
       "      <td>0.000</td>\n",
       "      <td>0.000</td>\n",
       "      <td>4</td>\n",
       "      <td>0.000</td>\n",
       "      <td>0, 102, 255</td>\n",
       "    </tr>\n",
       "    <tr>\n",
       "      <th>6</th>\n",
       "      <td>None will level on the line</td>\n",
       "      <td>0.000</td>\n",
       "      <td>0.000</td>\n",
       "      <td>6</td>\n",
       "      <td>0.000</td>\n",
       "      <td>0, 102, 255</td>\n",
       "    </tr>\n",
       "    <tr>\n",
       "      <th>7</th>\n",
       "      <td>Nobody offered his word</td>\n",
       "      <td>0.000</td>\n",
       "      <td>0.000</td>\n",
       "      <td>4</td>\n",
       "      <td>0.000</td>\n",
       "      <td>0, 102, 255</td>\n",
       "    </tr>\n",
       "    <tr>\n",
       "      <th>8</th>\n",
       "      <td>Hey, hey</td>\n",
       "      <td>0.000</td>\n",
       "      <td>0.000</td>\n",
       "      <td>2</td>\n",
       "      <td>0.000</td>\n",
       "      <td>0, 102, 255</td>\n",
       "    </tr>\n",
       "    <tr>\n",
       "      <th>9</th>\n",
       "      <td>No reason to get excited</td>\n",
       "      <td>0.375</td>\n",
       "      <td>0.750</td>\n",
       "      <td>5</td>\n",
       "      <td>1.875</td>\n",
       "      <td>0, 153, 0</td>\n",
       "    </tr>\n",
       "    <tr>\n",
       "      <th>10</th>\n",
       "      <td>The thief, he kindly spoke</td>\n",
       "      <td>0.600</td>\n",
       "      <td>0.900</td>\n",
       "      <td>5</td>\n",
       "      <td>3.000</td>\n",
       "      <td>0, 153, 0</td>\n",
       "    </tr>\n",
       "    <tr>\n",
       "      <th>11</th>\n",
       "      <td>There are many here among us</td>\n",
       "      <td>0.500</td>\n",
       "      <td>0.500</td>\n",
       "      <td>6</td>\n",
       "      <td>3.000</td>\n",
       "      <td>0, 153, 0</td>\n",
       "    </tr>\n",
       "    <tr>\n",
       "      <th>12</th>\n",
       "      <td>Who feel that life is but a joke</td>\n",
       "      <td>0.000</td>\n",
       "      <td>0.000</td>\n",
       "      <td>8</td>\n",
       "      <td>0.000</td>\n",
       "      <td>0, 102, 255</td>\n",
       "    </tr>\n",
       "    <tr>\n",
       "      <th>13</th>\n",
       "      <td>But, uh, but you and I, we've been through that</td>\n",
       "      <td>0.000</td>\n",
       "      <td>0.000</td>\n",
       "      <td>10</td>\n",
       "      <td>0.000</td>\n",
       "      <td>0, 102, 255</td>\n",
       "    </tr>\n",
       "    <tr>\n",
       "      <th>14</th>\n",
       "      <td>And this is not our fate</td>\n",
       "      <td>0.000</td>\n",
       "      <td>0.000</td>\n",
       "      <td>6</td>\n",
       "      <td>0.000</td>\n",
       "      <td>0, 102, 255</td>\n",
       "    </tr>\n",
       "    <tr>\n",
       "      <th>15</th>\n",
       "      <td>So let us stop talkin' falsely now</td>\n",
       "      <td>-0.400</td>\n",
       "      <td>0.600</td>\n",
       "      <td>7</td>\n",
       "      <td>-2.800</td>\n",
       "      <td>255, 0, 0</td>\n",
       "    </tr>\n",
       "    <tr>\n",
       "      <th>16</th>\n",
       "      <td>The hour's getting late, hey</td>\n",
       "      <td>-0.300</td>\n",
       "      <td>0.600</td>\n",
       "      <td>5</td>\n",
       "      <td>-1.500</td>\n",
       "      <td>255, 0, 0</td>\n",
       "    </tr>\n",
       "    <tr>\n",
       "      <th>17</th>\n",
       "      <td>Hey</td>\n",
       "      <td>0.000</td>\n",
       "      <td>0.000</td>\n",
       "      <td>1</td>\n",
       "      <td>0.000</td>\n",
       "      <td>0, 102, 255</td>\n",
       "    </tr>\n",
       "    <tr>\n",
       "      <th>18</th>\n",
       "      <td>All along the watchtower</td>\n",
       "      <td>0.000</td>\n",
       "      <td>0.000</td>\n",
       "      <td>4</td>\n",
       "      <td>0.000</td>\n",
       "      <td>0, 102, 255</td>\n",
       "    </tr>\n",
       "    <tr>\n",
       "      <th>19</th>\n",
       "      <td>Princes kept the view</td>\n",
       "      <td>0.000</td>\n",
       "      <td>0.000</td>\n",
       "      <td>4</td>\n",
       "      <td>0.000</td>\n",
       "      <td>0, 102, 255</td>\n",
       "    </tr>\n",
       "    <tr>\n",
       "      <th>20</th>\n",
       "      <td>While all the women came and went</td>\n",
       "      <td>0.000</td>\n",
       "      <td>0.000</td>\n",
       "      <td>7</td>\n",
       "      <td>0.000</td>\n",
       "      <td>0, 102, 255</td>\n",
       "    </tr>\n",
       "    <tr>\n",
       "      <th>21</th>\n",
       "      <td>Barefoot servants, too</td>\n",
       "      <td>0.000</td>\n",
       "      <td>0.000</td>\n",
       "      <td>3</td>\n",
       "      <td>0.000</td>\n",
       "      <td>0, 102, 255</td>\n",
       "    </tr>\n",
       "    <tr>\n",
       "      <th>22</th>\n",
       "      <td>Well, uh, outside in the cold distance</td>\n",
       "      <td>-0.300</td>\n",
       "      <td>0.525</td>\n",
       "      <td>7</td>\n",
       "      <td>-2.100</td>\n",
       "      <td>255, 0, 0</td>\n",
       "    </tr>\n",
       "    <tr>\n",
       "      <th>23</th>\n",
       "      <td>A wildcat did growl</td>\n",
       "      <td>0.000</td>\n",
       "      <td>0.000</td>\n",
       "      <td>4</td>\n",
       "      <td>0.000</td>\n",
       "      <td>0, 102, 255</td>\n",
       "    </tr>\n",
       "    <tr>\n",
       "      <th>24</th>\n",
       "      <td>Two riders were approaching</td>\n",
       "      <td>0.000</td>\n",
       "      <td>0.000</td>\n",
       "      <td>4</td>\n",
       "      <td>0.000</td>\n",
       "      <td>0, 102, 255</td>\n",
       "    </tr>\n",
       "    <tr>\n",
       "      <th>25</th>\n",
       "      <td>And the wind began to howl, hey</td>\n",
       "      <td>0.000</td>\n",
       "      <td>0.000</td>\n",
       "      <td>7</td>\n",
       "      <td>0.000</td>\n",
       "      <td>0, 102, 255</td>\n",
       "    </tr>\n",
       "    <tr>\n",
       "      <th>26</th>\n",
       "      <td>All along the watchtower</td>\n",
       "      <td>0.000</td>\n",
       "      <td>0.000</td>\n",
       "      <td>4</td>\n",
       "      <td>0.000</td>\n",
       "      <td>0, 102, 255</td>\n",
       "    </tr>\n",
       "    <tr>\n",
       "      <th>27</th>\n",
       "      <td>All along the watchtower</td>\n",
       "      <td>0.000</td>\n",
       "      <td>0.000</td>\n",
       "      <td>4</td>\n",
       "      <td>0.000</td>\n",
       "      <td>0, 102, 255</td>\n",
       "    </tr>\n",
       "  </tbody>\n",
       "</table>\n",
       "</div>"
      ],
      "text/plain": [
       "                                              lyric  polarity  subjectivity  \\\n",
       "0         There must be some kind of way outta here     0.600         0.900   \n",
       "1                       Said the joker to the thief     0.000         0.000   \n",
       "2                        There's too much confusion     0.200         0.200   \n",
       "3                             I can't get no relief     0.000         0.000   \n",
       "4                  Business men, they drink my wine     0.000         0.000   \n",
       "5                              Plowmen dig my earth     0.000         0.000   \n",
       "6                       None will level on the line     0.000         0.000   \n",
       "7                           Nobody offered his word     0.000         0.000   \n",
       "8                                          Hey, hey     0.000         0.000   \n",
       "9                          No reason to get excited     0.375         0.750   \n",
       "10                       The thief, he kindly spoke     0.600         0.900   \n",
       "11                     There are many here among us     0.500         0.500   \n",
       "12                 Who feel that life is but a joke     0.000         0.000   \n",
       "13  But, uh, but you and I, we've been through that     0.000         0.000   \n",
       "14                         And this is not our fate     0.000         0.000   \n",
       "15               So let us stop talkin' falsely now    -0.400         0.600   \n",
       "16                     The hour's getting late, hey    -0.300         0.600   \n",
       "17                                              Hey     0.000         0.000   \n",
       "18                         All along the watchtower     0.000         0.000   \n",
       "19                            Princes kept the view     0.000         0.000   \n",
       "20                While all the women came and went     0.000         0.000   \n",
       "21                           Barefoot servants, too     0.000         0.000   \n",
       "22           Well, uh, outside in the cold distance    -0.300         0.525   \n",
       "23                              A wildcat did growl     0.000         0.000   \n",
       "24                      Two riders were approaching     0.000         0.000   \n",
       "25                  And the wind began to howl, hey     0.000         0.000   \n",
       "26                         All along the watchtower     0.000         0.000   \n",
       "27                         All along the watchtower     0.000         0.000   \n",
       "\n",
       "    totalwords  pol_score       colour  \n",
       "0            9      5.400    0, 153, 0  \n",
       "1            6      0.000  0, 102, 255  \n",
       "2            4      0.800    0, 153, 0  \n",
       "3            5      0.000  0, 102, 255  \n",
       "4            6      0.000  0, 102, 255  \n",
       "5            4      0.000  0, 102, 255  \n",
       "6            6      0.000  0, 102, 255  \n",
       "7            4      0.000  0, 102, 255  \n",
       "8            2      0.000  0, 102, 255  \n",
       "9            5      1.875    0, 153, 0  \n",
       "10           5      3.000    0, 153, 0  \n",
       "11           6      3.000    0, 153, 0  \n",
       "12           8      0.000  0, 102, 255  \n",
       "13          10      0.000  0, 102, 255  \n",
       "14           6      0.000  0, 102, 255  \n",
       "15           7     -2.800    255, 0, 0  \n",
       "16           5     -1.500    255, 0, 0  \n",
       "17           1      0.000  0, 102, 255  \n",
       "18           4      0.000  0, 102, 255  \n",
       "19           4      0.000  0, 102, 255  \n",
       "20           7      0.000  0, 102, 255  \n",
       "21           3      0.000  0, 102, 255  \n",
       "22           7     -2.100    255, 0, 0  \n",
       "23           4      0.000  0, 102, 255  \n",
       "24           4      0.000  0, 102, 255  \n",
       "25           7      0.000  0, 102, 255  \n",
       "26           4      0.000  0, 102, 255  \n",
       "27           4      0.000  0, 102, 255  "
      ]
     },
     "execution_count": 122,
     "metadata": {},
     "output_type": "execute_result"
    }
   ],
   "source": [
    "data.head(30)"
   ]
  },
  {
   "cell_type": "code",
   "execution_count": 126,
   "metadata": {},
   "outputs": [
    {
     "ename": "TypeError",
     "evalue": "float() argument must be a string or a number, not 'list'",
     "output_type": "error",
     "traceback": [
      "\u001b[0;31m---------------------------------------------------------------------------\u001b[0m",
      "\u001b[0;31mTypeError\u001b[0m                                 Traceback (most recent call last)",
      "\u001b[0;32m<ipython-input-126-ea1255768d21>\u001b[0m in \u001b[0;36m<module>\u001b[0;34m\u001b[0m\n\u001b[1;32m      8\u001b[0m \u001b[0mcolors\u001b[0m \u001b[0;34m=\u001b[0m \u001b[0;34m[\u001b[0m\u001b[0;34m]\u001b[0m\u001b[0;34m\u001b[0m\u001b[0;34m\u001b[0m\u001b[0m\n\u001b[1;32m      9\u001b[0m \u001b[0;34m\u001b[0m\u001b[0m\n\u001b[0;32m---> 10\u001b[0;31m \u001b[0mcolors\u001b[0m\u001b[0;34m.\u001b[0m\u001b[0mappend\u001b[0m\u001b[0;34m(\u001b[0m\u001b[0mdata\u001b[0m\u001b[0;34m.\u001b[0m\u001b[0mcolour\u001b[0m\u001b[0;34m.\u001b[0m\u001b[0mstr\u001b[0m\u001b[0;34m.\u001b[0m\u001b[0msplit\u001b[0m\u001b[0;34m(\u001b[0m\u001b[0;34m', '\u001b[0m\u001b[0;34m)\u001b[0m\u001b[0;34m.\u001b[0m\u001b[0mmap\u001b[0m\u001b[0;34m(\u001b[0m\u001b[0mfloat\u001b[0m\u001b[0;34m)\u001b[0m\u001b[0;34m.\u001b[0m\u001b[0munique\u001b[0m\u001b[0;34m(\u001b[0m\u001b[0;34m)\u001b[0m\u001b[0;34m)\u001b[0m\u001b[0;34m\u001b[0m\u001b[0;34m\u001b[0m\u001b[0m\n\u001b[0m\u001b[1;32m     11\u001b[0m \u001b[0;34m\u001b[0m\u001b[0m\n\u001b[1;32m     12\u001b[0m \u001b[0;34m\u001b[0m\u001b[0m\n",
      "\u001b[0;32m//anaconda3/lib/python3.7/site-packages/pandas/core/series.py\u001b[0m in \u001b[0;36mmap\u001b[0;34m(self, arg, na_action)\u001b[0m\n\u001b[1;32m   3380\u001b[0m         \"\"\"\n\u001b[1;32m   3381\u001b[0m         new_values = super(Series, self)._map_values(\n\u001b[0;32m-> 3382\u001b[0;31m             arg, na_action=na_action)\n\u001b[0m\u001b[1;32m   3383\u001b[0m         return self._constructor(new_values,\n\u001b[1;32m   3384\u001b[0m                                  index=self.index).__finalize__(self)\n",
      "\u001b[0;32m//anaconda3/lib/python3.7/site-packages/pandas/core/base.py\u001b[0m in \u001b[0;36m_map_values\u001b[0;34m(self, mapper, na_action)\u001b[0m\n\u001b[1;32m   1216\u001b[0m \u001b[0;34m\u001b[0m\u001b[0m\n\u001b[1;32m   1217\u001b[0m         \u001b[0;31m# mapper is a function\u001b[0m\u001b[0;34m\u001b[0m\u001b[0;34m\u001b[0m\u001b[0;34m\u001b[0m\u001b[0m\n\u001b[0;32m-> 1218\u001b[0;31m         \u001b[0mnew_values\u001b[0m \u001b[0;34m=\u001b[0m \u001b[0mmap_f\u001b[0m\u001b[0;34m(\u001b[0m\u001b[0mvalues\u001b[0m\u001b[0;34m,\u001b[0m \u001b[0mmapper\u001b[0m\u001b[0;34m)\u001b[0m\u001b[0;34m\u001b[0m\u001b[0;34m\u001b[0m\u001b[0m\n\u001b[0m\u001b[1;32m   1219\u001b[0m \u001b[0;34m\u001b[0m\u001b[0m\n\u001b[1;32m   1220\u001b[0m         \u001b[0;32mreturn\u001b[0m \u001b[0mnew_values\u001b[0m\u001b[0;34m\u001b[0m\u001b[0;34m\u001b[0m\u001b[0m\n",
      "\u001b[0;32mpandas/_libs/lib.pyx\u001b[0m in \u001b[0;36mpandas._libs.lib.map_infer\u001b[0;34m()\u001b[0m\n",
      "\u001b[0;31mTypeError\u001b[0m: float() argument must be a string or a number, not 'list'"
     ]
    }
   ],
   "source": [
    "\n",
    "\n",
    "#float_gen = lambda a, b: random.uniform(a, b)\n",
    "\n",
    "#colors = []\n",
    "#for i in range(15):\n",
    "#    colors.append((float_gen(.4, .75), float_gen(.4, .75), float_gen(.4, .75)))\n",
    "\n",
    "\n",
    "colors = []\n",
    "\n",
    "colors.append(data.colour.str.split(', ').map(float).unique())\n",
    "\n",
    "\n",
    "\n",
    "#colors.append(float(data.colour.unique()))\n",
    "\n",
    "              #.strip('[]'))\n",
    "#colors.append(np.vectorize(data.colour.unique()))\n",
    "\n",
    "def octagon(x_orig, y_orig, side):\n",
    "    x = x_orig\n",
    "    y = y_orig\n",
    "    d = side / math.sqrt(2)\n",
    "\n",
    "    oct = []\n",
    "\n",
    "    oct.append((x, y))\n",
    "\n",
    "    x += side\n",
    "    oct.append((x, y))\n",
    "\n",
    "    x += d\n",
    "    y += d\n",
    "    oct.append((x, y))\n",
    "\n",
    "    y += side\n",
    "    oct.append((x, y))\n",
    "\n",
    "    x -= d\n",
    "    y += d\n",
    "    oct.append((x, y))\n",
    "\n",
    "    x -= side\n",
    "    oct.append((x, y))\n",
    "\n",
    "    x -= d\n",
    "    y -= d\n",
    "    oct.append((x, y))\n",
    "\n",
    "    y -= side\n",
    "    oct.append((x, y))\n",
    "\n",
    "    x += d\n",
    "    y -= d\n",
    "    oct.append((x, y))\n",
    "\n",
    "    return oct\n",
    "\n",
    "def deform(shape, iterations, variance):\n",
    "    for i in range(iterations):\n",
    "        for j in range(len(shape)-1, 0, -1):\n",
    "            midpoint = ((shape[j-1][0] + shape[j][0])/2 + float_gen(-variance, variance), (shape[j-1][1] + shape[j][1])/2 + float_gen(-variance, variance))\n",
    "            shape.insert(j, midpoint)\n",
    "    return shape\n",
    "\n",
    "   \n",
    "def main(**kwargs):\n",
    "    \"\"\"parser = argparse.ArgumentParser()\n",
    "    parser.add_argument(\"--width\", default=1000, type=int)\n",
    "    parser.add_argument(\"--height\", default=1500, type=int)\n",
    "    parser.add_argument(\"-i\", \"--initial\", default=120, type=int)\n",
    "    parser.add_argument(\"-d\", \"--deviation\", default=50, type=int)\n",
    "    parser.add_argument(\"-bd\", \"--basedeforms\", default=1, type=int)\n",
    "    parser.add_argument(\"-fd\", \"--finaldeforms\", default=3, type=int)\n",
    "    parser.add_argument(\"-mins\", \"--minshapes\", default=20, type=int)\n",
    "    parser.add_argument(\"-maxs\", \"--maxshapes\", default=25, type=int)\n",
    "    parser.add_argument(\"-sa\", \"--shapealpha\", default=.02, type=float)\n",
    "    args = parser.parse_args()\n",
    "    \"\"\"\n",
    "    kwargs = {\"width\": 1000,\n",
    "            \"height\": 1000,\n",
    "            \"initial\": 120,\n",
    "            \"deviation\": 50,\n",
    "            \"basedeforms\": 1,\n",
    "            \"finaldeforms\": 3,\n",
    "            \"minshapes\": 20,\n",
    "            \"maxshapes\": 25,\n",
    "            \"shapealpha\":.02}\n",
    "\n",
    "\n",
    "    \n",
    "    #main(**kwargs)\n",
    "    \n",
    "    width = kwargs['width']\n",
    "    height = kwargs['height']\n",
    "    initial = kwargs['initial']\n",
    "    deviation = kwargs['deviation']\n",
    "\n",
    "    basedeforms = kwargs['basedeforms']\n",
    "    finaldeforms = kwargs['finaldeforms']\n",
    "\n",
    "    minshapes = kwargs['minshapes']\n",
    "    maxshapes = kwargs['maxshapes']\n",
    "\n",
    "    shapealpha = kwargs['shapealpha']\n",
    "\n",
    "    ims = cairo.ImageSurface(cairo.FORMAT_ARGB32, width, height)\n",
    "    cr = cairo.Context(ims)\n",
    "\n",
    "    cr.set_source_rgb(.9, .9, .9)\n",
    "    cr.rectangle(0, 0, width, height)\n",
    "    cr.fill()\n",
    "\n",
    "    cr.set_line_width(1)\n",
    "\n",
    "    for p in range(-int(height*.2), int(height*1.2), 60):\n",
    "        cr.set_source_rgba(random.choice(colors)[0], random.choice(colors)[1], random.choice(colors)[2], shapealpha)\n",
    "\n",
    "        shape = octagon(random.randint(-100, width+100), p, random.randint(100, 300))\n",
    "        baseshape = deform(shape, basedeforms, initial)\n",
    "\n",
    "        for j in range(random.randint(minshapes, maxshapes)):\n",
    "            tempshape = copy.deepcopy(baseshape)\n",
    "            layer = deform(tempshape, finaldeforms, deviation)\n",
    "\n",
    "            for i in range(len(layer)):\n",
    "                cr.line_to(layer[i][0], layer[i][1])\n",
    "            cr.fill()\n",
    "\n",
    "    ims.write_to_png('' + str(int(random.randint(0, 500))) + '.png')\n",
    "\n",
    "if __name__ == \"__main__\":\n",
    "    main()"
   ]
  },
  {
   "cell_type": "code",
   "execution_count": 52,
   "metadata": {},
   "outputs": [],
   "source": [
    "kwargs = {\"width\": 1000,\n",
    "            \"height\": 1000,\n",
    "            \"initial\": 120,\n",
    "            \"deviation\": 50,\n",
    "            \"basedeforms\": 1,\n",
    "            \"finaldeforms\": 3,\n",
    "            \"minshapes\": 20,\n",
    "            \"maxshapes\": 25,\n",
    "            \"shapealpha\":.02}"
   ]
  },
  {
   "cell_type": "code",
   "execution_count": 53,
   "metadata": {},
   "outputs": [
    {
     "name": "stdout",
     "output_type": "stream",
     "text": [
      "{'width': 100, 'height': 1000, 'initial': 120, 'deviation': 50, 'basedeforms': 1, 'finaldeforms': 3, 'minshapes': 20, 'maxshapes': 25, 'shapealpha': 0.02}\n"
     ]
    }
   ],
   "source": [
    "print(kwargs)"
   ]
  },
  {
   "cell_type": "code",
   "execution_count": 54,
   "metadata": {},
   "outputs": [
    {
     "data": {
      "text/plain": [
       "100"
      ]
     },
     "execution_count": 54,
     "metadata": {},
     "output_type": "execute_result"
    }
   ],
   "source": [
    "kwargs['width']"
   ]
  },
  {
   "cell_type": "code",
   "execution_count": 55,
   "metadata": {},
   "outputs": [
    {
     "name": "stdout",
     "output_type": "stream",
     "text": [
      "100\n"
     ]
    }
   ],
   "source": [
    "width = kwargs['width']\n",
    "print(width)"
   ]
  },
  {
   "cell_type": "code",
   "execution_count": 63,
   "metadata": {},
   "outputs": [
    {
     "name": "stdout",
     "output_type": "stream",
     "text": [
      "[(0.41592624685088336, 0.576017069427655, 0.6321665299325263), (0.6029413282453896, 0.603685315840183, 0.5277602191457426), (0.590950584903762, 0.4813859981863262, 0.5208824725321652), (0.4345009093811144, 0.6673092010403858, 0.6102383187651381), (0.6912299033190688, 0.4513711366642734, 0.5253521445437327), (0.500288106302018, 0.6020625647779603, 0.49842993863907514), (0.6398968287460131, 0.6922946104556948, 0.5945728865807012), (0.5800527019321726, 0.5186771228434401, 0.6721934408906454), (0.6629420847848423, 0.6877077422033047, 0.658408277680314), (0.6403816057199522, 0.6458558816578657, 0.679249144127651), (0.6981418609087614, 0.6848881255788364, 0.6199405444851657), (0.7267624367353926, 0.5163355542638541, 0.4256372886732189), (0.5048992950042869, 0.6953911855355166, 0.7213019390258588), (0.6647786346451967, 0.5639609167789051, 0.5900443106628914), (0.48681259230152163, 0.47032485211732444, 0.48675084648791955)]\n"
     ]
    }
   ],
   "source": [
    "print(colors)"
   ]
  },
  {
   "cell_type": "code",
   "execution_count": 88,
   "metadata": {},
   "outputs": [
    {
     "name": "stdout",
     "output_type": "stream",
     "text": [
      "[]\n"
     ]
    }
   ],
   "source": [
    "print(colors)"
   ]
  },
  {
   "cell_type": "code",
   "execution_count": 124,
   "metadata": {},
   "outputs": [
    {
     "name": "stdout",
     "output_type": "stream",
     "text": [
      "['0, 153, 0' '0, 102, 255' '255, 0, 0']\n"
     ]
    }
   ],
   "source": [
    "print((data.colour.unique()))"
   ]
  },
  {
   "cell_type": "code",
   "execution_count": 90,
   "metadata": {},
   "outputs": [
    {
     "name": "stdout",
     "output_type": "stream",
     "text": [
      "['0, 153, 0' '0, 102, 255' '255, 0, 0']\n"
     ]
    }
   ],
   "source": [
    "print((data.colour.unique()))"
   ]
  },
  {
   "cell_type": "code",
   "execution_count": 74,
   "metadata": {},
   "outputs": [
    {
     "name": "stdout",
     "output_type": "stream",
     "text": [
      "'0, 153, 0' '0, 102, 255' '255, 0, 0'\n"
     ]
    }
   ],
   "source": [
    "print (str(data.colour.unique()).strip('[]'))"
   ]
  },
  {
   "cell_type": "code",
   "execution_count": 91,
   "metadata": {},
   "outputs": [],
   "source": [
    "data = {'col1':  ['abc', 'def','ghi','jkl'],\n",
    "        'col2': ['0, 153, 0', '0, 153, 0', '0, 102, 255','255, 0, 0']\n",
    "        }\n",
    "\n",
    "df = pd.DataFrame (data, columns = ['col1','col2'])"
   ]
  },
  {
   "cell_type": "code",
   "execution_count": 92,
   "metadata": {},
   "outputs": [],
   "source": [
    "l = df.col2.str.split(', ').map(tuple).unique()"
   ]
  },
  {
   "cell_type": "code",
   "execution_count": 93,
   "metadata": {},
   "outputs": [
    {
     "name": "stdout",
     "output_type": "stream",
     "text": [
      "[('0', '153', '0') ('0', '102', '255') ('255', '0', '0')]\n"
     ]
    }
   ],
   "source": [
    "print(l)"
   ]
  },
  {
   "cell_type": "code",
   "execution_count": 116,
   "metadata": {},
   "outputs": [
    {
     "ename": "AttributeError",
     "evalue": "'numpy.ndarray' object has no attribute 'str'",
     "output_type": "error",
     "traceback": [
      "\u001b[0;31m---------------------------------------------------------------------------\u001b[0m",
      "\u001b[0;31mAttributeError\u001b[0m                            Traceback (most recent call last)",
      "\u001b[0;32m<ipython-input-116-27c5c0c77ee2>\u001b[0m in \u001b[0;36m<module>\u001b[0;34m\u001b[0m\n\u001b[0;32m----> 1\u001b[0;31m \u001b[0ml2\u001b[0m \u001b[0;34m=\u001b[0m \u001b[0ml\u001b[0m\u001b[0;34m.\u001b[0m\u001b[0mstr\u001b[0m\u001b[0;34m.\u001b[0m\u001b[0msplit\u001b[0m\u001b[0;34m(\u001b[0m\u001b[0;34m', '\u001b[0m\u001b[0;34m)\u001b[0m\u001b[0;34m\u001b[0m\u001b[0;34m\u001b[0m\u001b[0m\n\u001b[0m",
      "\u001b[0;31mAttributeError\u001b[0m: 'numpy.ndarray' object has no attribute 'str'"
     ]
    }
   ],
   "source": [
    "l2 = l.str.split(', ')"
   ]
  },
  {
   "cell_type": "code",
   "execution_count": null,
   "metadata": {},
   "outputs": [],
   "source": []
  }
 ],
 "metadata": {
  "kernelspec": {
   "display_name": "Python 3",
   "language": "python",
   "name": "python3"
  },
  "language_info": {
   "codemirror_mode": {
    "name": "ipython",
    "version": 3
   },
   "file_extension": ".py",
   "mimetype": "text/x-python",
   "name": "python",
   "nbconvert_exporter": "python",
   "pygments_lexer": "ipython3",
   "version": "3.7.3"
  }
 },
 "nbformat": 4,
 "nbformat_minor": 2
}
